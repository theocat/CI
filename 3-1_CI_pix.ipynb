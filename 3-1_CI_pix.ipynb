{
 "cells": [
  {
   "cell_type": "code",
   "execution_count": 1,
   "metadata": {},
   "outputs": [],
   "source": [
    "import os\n",
    "import struct\n",
    "import numpy as np"
   ]
  },
  {
   "cell_type": "code",
   "execution_count": 2,
   "metadata": {},
   "outputs": [],
   "source": [
    "data_path = '/work/wuxue/data/CI/Zhuge/result/H8_20180402_0810_FCST_pix_bin.dat'"
   ]
  },
  {
   "cell_type": "code",
   "execution_count": 3,
   "metadata": {},
   "outputs": [],
   "source": [
    "data_file = open(data_path,'rb')"
   ]
  },
  {
   "cell_type": "markdown",
   "metadata": {},
   "source": [
    "strust ProjHeader  //投影数据头(Project Data Header)，128字节\n",
    "｛\n",
    "    unsigned short wFileID;   //2，固定为GF\n",
    "    undigned short wPjType;   //4，投影类型，不投影=0，等经纬度=1，麦卡托=2，兰伯特=3，极射赤面=4，艾尔伯斯投影=5\n",
    "    undigned short wWidth;    //6，宽度\n",
    "    undigned short wHeight;   //8，高度\n",
    "    float fCLonRes;        //12，投影展开面上中心像素对应的地球点的分辨率\n",
    "    float fCLatRes;        //16，投影展开面上中心像素对应的地球点的分辨率\n",
    "    float fStdLat1;        //20，标准纬度1\n",
    "    float fStdLat2;        //24，标准纬度2\n",
    "    float fEarthR;         //28，地球半径\n",
    "    float fMinLat;         //32，投影范围最小纬度\n",
    "    float fMaxLat;         //36，投影范围最大纬度\n",
    "    float fMinLon;         //40，投影范围最小经度\n",
    "    float fMaxLon;         //44，投影范围最大经度\n",
    "    float fLtLat;          //48，左上角纬度\n",
    "    float fLtLon;          //52，左上角经度\n",
    "    float fRtLat;          //56，右上角纬度\n",
    "    float fRtLon;          //60，右上角经度\n",
    "    float fLbLat;          //64，左下角纬度\n",
    "    float fLbLon;          //68，左下角经度\n",
    "    float fRbLat;          //72，右下角纬度\n",
    "    float fRbLon;          //76，右下角经度\n",
    "    float fStdLon;         //80，标准经度（中心经度）\n",
    "    float fCenterLon;       //84，中心经度\n",
    "    float fCenterLat;       //88，中心纬度\n",
    "    char cReserved[40];      //128，保留空间，以备后用\n",
    "｝"
   ]
  },
  {
   "cell_type": "code",
   "execution_count": 4,
   "metadata": {
    "scrolled": true
   },
   "outputs": [
    {
     "name": "stdout",
     "output_type": "stream",
     "text": [
      "wFileID:  2\n"
     ]
    }
   ],
   "source": [
    "wFileID, = struct.unpack(\"<H\",data_file.read(2))\n",
    "print 'wFileID: ',wFileID"
   ]
  },
  {
   "cell_type": "code",
   "execution_count": 5,
   "metadata": {},
   "outputs": [
    {
     "name": "stdout",
     "output_type": "stream",
     "text": [
      "wPjType:  3\n"
     ]
    }
   ],
   "source": [
    "wPjType, = struct.unpack(\"<H\",data_file.read(2))\n",
    "print 'wPjType: ',wPjType"
   ]
  },
  {
   "cell_type": "code",
   "execution_count": 6,
   "metadata": {},
   "outputs": [
    {
     "name": "stdout",
     "output_type": "stream",
     "text": [
      "wWidth:  1200\n"
     ]
    }
   ],
   "source": [
    "wWidth, = struct.unpack(\"<H\",data_file.read(2))\n",
    "print 'wWidth: ',wWidth"
   ]
  },
  {
   "cell_type": "code",
   "execution_count": 7,
   "metadata": {},
   "outputs": [
    {
     "name": "stdout",
     "output_type": "stream",
     "text": [
      "wHeight:  1200\n"
     ]
    }
   ],
   "source": [
    "wHeight, = struct.unpack(\"<H\",data_file.read(2))\n",
    "print 'wHeight: ',wHeight"
   ]
  },
  {
   "cell_type": "code",
   "execution_count": 8,
   "metadata": {},
   "outputs": [
    {
     "name": "stdout",
     "output_type": "stream",
     "text": [
      "fCLonRes:  0.5\n"
     ]
    }
   ],
   "source": [
    "fCLonRes, = struct.unpack(\"<f\",data_file.read(4))\n",
    "print 'fCLonRes: ',fCLonRes"
   ]
  },
  {
   "cell_type": "code",
   "execution_count": 9,
   "metadata": {},
   "outputs": [
    {
     "name": "stdout",
     "output_type": "stream",
     "text": [
      "fCLatRes:  0.5\n"
     ]
    }
   ],
   "source": [
    "fCLatRes, = struct.unpack(\"<f\",data_file.read(4))\n",
    "print 'fCLatRes: ',fCLatRes"
   ]
  },
  {
   "cell_type": "code",
   "execution_count": 10,
   "metadata": {
    "scrolled": true
   },
   "outputs": [
    {
     "name": "stdout",
     "output_type": "stream",
     "text": [
      "fStdLat1:  30.0\n"
     ]
    }
   ],
   "source": [
    "fStdLat1, = struct.unpack(\"<f\",data_file.read(4))\n",
    "print 'fStdLat1: ',fStdLat1"
   ]
  },
  {
   "cell_type": "code",
   "execution_count": 11,
   "metadata": {},
   "outputs": [
    {
     "name": "stdout",
     "output_type": "stream",
     "text": [
      "fStdLat2:  60.0\n"
     ]
    }
   ],
   "source": [
    "fStdLat2, = struct.unpack(\"<f\",data_file.read(4))\n",
    "print 'fStdLat2: ',fStdLat2"
   ]
  },
  {
   "cell_type": "code",
   "execution_count": 12,
   "metadata": {},
   "outputs": [
    {
     "name": "stdout",
     "output_type": "stream",
     "text": [
      "fEarthR:  6377.0\n"
     ]
    }
   ],
   "source": [
    "fEarthR, = struct.unpack(\"<f\",data_file.read(4))\n",
    "print 'fEarthR: ',fEarthR"
   ]
  },
  {
   "cell_type": "code",
   "execution_count": 13,
   "metadata": {},
   "outputs": [
    {
     "name": "stdout",
     "output_type": "stream",
     "text": [
      "fMinLat:  1.0\n"
     ]
    }
   ],
   "source": [
    "fMinLat, = struct.unpack(\"<f\",data_file.read(4))\n",
    "print 'fMinLat: ',fMinLat"
   ]
  },
  {
   "cell_type": "code",
   "execution_count": 14,
   "metadata": {},
   "outputs": [
    {
     "name": "stdout",
     "output_type": "stream",
     "text": [
      "fMaxLat:  2.0\n"
     ]
    }
   ],
   "source": [
    "fMaxLat, = struct.unpack(\"<f\",data_file.read(4))\n",
    "print 'fMaxLat: ',fMaxLat"
   ]
  },
  {
   "cell_type": "code",
   "execution_count": 15,
   "metadata": {},
   "outputs": [
    {
     "name": "stdout",
     "output_type": "stream",
     "text": [
      "fMinLon:  3.0\n"
     ]
    }
   ],
   "source": [
    "fMinLon, = struct.unpack(\"<f\",data_file.read(4))\n",
    "print 'fMinLon: ',fMinLon"
   ]
  },
  {
   "cell_type": "code",
   "execution_count": 16,
   "metadata": {},
   "outputs": [
    {
     "name": "stdout",
     "output_type": "stream",
     "text": [
      "fMaxLon:  4.0\n"
     ]
    }
   ],
   "source": [
    "fMaxLon, = struct.unpack(\"<f\",data_file.read(4))\n",
    "print 'fMaxLon: ',fMaxLon"
   ]
  },
  {
   "cell_type": "code",
   "execution_count": 17,
   "metadata": {},
   "outputs": [
    {
     "name": "stdout",
     "output_type": "stream",
     "text": [
      "fLtLat:  5.0\n"
     ]
    }
   ],
   "source": [
    "fLtLat, = struct.unpack(\"<f\",data_file.read(4))\n",
    "print 'fLtLat: ',fLtLat"
   ]
  },
  {
   "cell_type": "code",
   "execution_count": 18,
   "metadata": {},
   "outputs": [
    {
     "name": "stdout",
     "output_type": "stream",
     "text": [
      "fLtLon:  6.0\n"
     ]
    }
   ],
   "source": [
    "fLtLon, = struct.unpack(\"<f\",data_file.read(4))\n",
    "print 'fLtLon: ',fLtLon"
   ]
  },
  {
   "cell_type": "code",
   "execution_count": 19,
   "metadata": {},
   "outputs": [
    {
     "name": "stdout",
     "output_type": "stream",
     "text": [
      "fRtLat:  7.0\n"
     ]
    }
   ],
   "source": [
    "fRtLat, = struct.unpack(\"<f\",data_file.read(4))\n",
    "print 'fRtLat: ',fRtLat"
   ]
  },
  {
   "cell_type": "code",
   "execution_count": 20,
   "metadata": {},
   "outputs": [
    {
     "name": "stdout",
     "output_type": "stream",
     "text": [
      "fRtLon:  8.0\n"
     ]
    }
   ],
   "source": [
    "fRtLon, = struct.unpack(\"<f\",data_file.read(4))\n",
    "print 'fRtLon: ',fRtLon"
   ]
  },
  {
   "cell_type": "code",
   "execution_count": 21,
   "metadata": {},
   "outputs": [
    {
     "name": "stdout",
     "output_type": "stream",
     "text": [
      "fLbLat:  9.0\n"
     ]
    }
   ],
   "source": [
    "fLbLat, = struct.unpack(\"<f\",data_file.read(4))\n",
    "print 'fLbLat: ',fLbLat"
   ]
  },
  {
   "cell_type": "code",
   "execution_count": 22,
   "metadata": {},
   "outputs": [
    {
     "name": "stdout",
     "output_type": "stream",
     "text": [
      "fLbLon:  10.0\n"
     ]
    }
   ],
   "source": [
    "fLbLon, = struct.unpack(\"<f\",data_file.read(4))\n",
    "print 'fLbLon: ',fLbLon"
   ]
  },
  {
   "cell_type": "code",
   "execution_count": 23,
   "metadata": {},
   "outputs": [
    {
     "name": "stdout",
     "output_type": "stream",
     "text": [
      "fRbLat:  11.0\n"
     ]
    }
   ],
   "source": [
    "fRbLat, = struct.unpack(\"<f\",data_file.read(4))\n",
    "print 'fRbLat: ',fRbLat"
   ]
  },
  {
   "cell_type": "code",
   "execution_count": 24,
   "metadata": {},
   "outputs": [
    {
     "name": "stdout",
     "output_type": "stream",
     "text": [
      "fRbLon:  12.0\n"
     ]
    }
   ],
   "source": [
    "fRbLon, = struct.unpack(\"<f\",data_file.read(4))\n",
    "print 'fRbLon: ',fRbLon"
   ]
  },
  {
   "cell_type": "code",
   "execution_count": 25,
   "metadata": {},
   "outputs": [
    {
     "name": "stdout",
     "output_type": "stream",
     "text": [
      "fStdLon:  117.5\n"
     ]
    }
   ],
   "source": [
    "fStdLon, = struct.unpack(\"<f\",data_file.read(4))\n",
    "print 'fStdLon: ',fStdLon"
   ]
  },
  {
   "cell_type": "code",
   "execution_count": 26,
   "metadata": {},
   "outputs": [
    {
     "name": "stdout",
     "output_type": "stream",
     "text": [
      "fCenterLon:  117.990600586\n"
     ]
    }
   ],
   "source": [
    "fCenterLon, = struct.unpack(\"<f\",data_file.read(4))\n",
    "print 'fCenterLon: ',fCenterLon"
   ]
  },
  {
   "cell_type": "code",
   "execution_count": 27,
   "metadata": {},
   "outputs": [
    {
     "name": "stdout",
     "output_type": "stream",
     "text": [
      "fCenterLat:  25.9895992279\n"
     ]
    }
   ],
   "source": [
    "fCenterLat, = struct.unpack(\"<f\",data_file.read(4))\n",
    "print 'fCenterLat: ',fCenterLat"
   ]
  },
  {
   "cell_type": "code",
   "execution_count": 28,
   "metadata": {},
   "outputs": [
    {
     "name": "stdout",
     "output_type": "stream",
     "text": [
      "cReserved:  0000000000000000000000000000000000000000\n"
     ]
    }
   ],
   "source": [
    "cReserved, = struct.unpack(str(40)+\"s\",data_file.read(40))\n",
    "print 'cReserved: ',cReserved"
   ]
  },
  {
   "cell_type": "markdown",
   "metadata": {},
   "source": [
    "1-晴空\n",
    "\n",
    "2-卷云\n",
    "\n",
    "3-已经形成的对流\n",
    "\n",
    "4-像素属于积云像素点，但目前还不具备发生CI的特征\n",
    "\n",
    "5-像素将会发生CI"
   ]
  },
  {
   "cell_type": "code",
   "execution_count": 29,
   "metadata": {},
   "outputs": [],
   "source": [
    "nn = wWidth * wHeight\n",
    "Data0 = struct.unpack(str(nn)+\"b\",data_file.read(nn*1))\n",
    "Data = np.array(Data0,int)\n",
    "Data = Data.reshape(wHeight,wWidth)"
   ]
  },
  {
   "cell_type": "markdown",
   "metadata": {},
   "source": [
    "投影"
   ]
  },
  {
   "cell_type": "code",
   "execution_count": 30,
   "metadata": {},
   "outputs": [],
   "source": [
    "from pyproj import Proj"
   ]
  },
  {
   "cell_type": "code",
   "execution_count": 31,
   "metadata": {},
   "outputs": [],
   "source": [
    "p = Proj('+proj=lcc +lon_0=117.5 +lat_1=30 +lat_2=60 +ellps=krass')"
   ]
  },
  {
   "cell_type": "code",
   "execution_count": 32,
   "metadata": {},
   "outputs": [
    {
     "name": "stdout",
     "output_type": "stream",
     "text": [
      "(0.0, 0.0)\n"
     ]
    }
   ],
   "source": [
    "x0,y0=p(117.5,0)            # 把十进制的经纬度，转换成为地图的xy坐标（以标准经度和0N为坐标原点）\n",
    "print(x0,y0)"
   ]
  },
  {
   "cell_type": "code",
   "execution_count": 33,
   "metadata": {},
   "outputs": [
    {
     "name": "stdout",
     "output_type": "stream",
     "text": [
      "50085.895, 3244350.142\n"
     ]
    }
   ],
   "source": [
    "x, y = p(fCenterLon, fCenterLat)            # 网格中心\n",
    "print '%.3f, %.3f' %(x, y)"
   ]
  },
  {
   "cell_type": "code",
   "execution_count": 34,
   "metadata": {},
   "outputs": [
    {
     "name": "stdout",
     "output_type": "stream",
     "text": [
      "117.990600586 25.9895992279\n"
     ]
    }
   ],
   "source": [
    "lon,lat = p(x, y, inverse=True)\n",
    "print lon,lat"
   ]
  },
  {
   "cell_type": "code",
   "execution_count": 35,
   "metadata": {},
   "outputs": [],
   "source": [
    "X = np.array(range(-wWidth/2, wWidth/2, 1)) * fCLonRes*1000 + x               \n",
    "Y = np.array(range(wHeight/2, -wHeight/2, -1)) * fCLatRes*1000 + y  \n",
    "X, Y = np.meshgrid(X, Y)"
   ]
  },
  {
   "cell_type": "code",
   "execution_count": 36,
   "metadata": {},
   "outputs": [],
   "source": [
    "Lon, Lat = p(X, Y, inverse=True)"
   ]
  },
  {
   "cell_type": "code",
   "execution_count": 37,
   "metadata": {},
   "outputs": [
    {
     "name": "stdout",
     "output_type": "stream",
     "text": [
      "114.95958940404675 121.0524475893271\n",
      "23.29570121182101 28.664476993314885\n"
     ]
    }
   ],
   "source": [
    "print Lon.min(), Lon.max()\n",
    "print Lat.min(), Lat.max()"
   ]
  },
  {
   "cell_type": "markdown",
   "metadata": {},
   "source": [
    "像素图"
   ]
  },
  {
   "cell_type": "code",
   "execution_count": 38,
   "metadata": {},
   "outputs": [],
   "source": [
    "import matplotlib.pyplot as plt\n",
    "from mpl_toolkits.basemap import Basemap"
   ]
  },
  {
   "cell_type": "code",
   "execution_count": 39,
   "metadata": {},
   "outputs": [
    {
     "name": "stderr",
     "output_type": "stream",
     "text": [
      "/home/wuxue/pkg/anaconda2/lib/python2.7/site-packages/mpl_toolkits/basemap/__init__.py:3608: MatplotlibDeprecationWarning: The ishold function was deprecated in version 2.0.\n",
      "  b = ax.ishold()\n",
      "/home/wuxue/pkg/anaconda2/lib/python2.7/site-packages/mpl_toolkits/basemap/__init__.py:3677: MatplotlibDeprecationWarning: axes.hold is deprecated.\n",
      "    See the API Changes document (http://matplotlib.org/api/api_changes.html)\n",
      "    for more details.\n",
      "  ax.hold(b)\n"
     ]
    },
    {
     "data": {
      "image/png": "[encoded data removed]",
      "text/plain": [
       "<Figure size 576x576 with 2 Axes>"
      ]
     },
     "metadata": {},
     "output_type": "display_data"
    }
   ],
   "source": [
    "cmpfile='./CI.rgb'\n",
    "cmpdata=np.loadtxt(cmpfile)\n",
    "cmpdata=cmpdata/255.0;\n",
    "fig = plt.figure(figsize=(8,8))\n",
    "m = Basemap(projection='cyl',resolution='i',llcrnrlon=Lon.min(),llcrnrlat=Lat.min(),urcrnrlon=Lon.max(),urcrnrlat=Lat.max(),suppress_ticks=False)\n",
    "m.drawcoastlines(linewidth=1,color='k')\n",
    "m.drawcountries(linewidth=1,color='k')\n",
    "m.drawmeridians(np.arange(115,122,1))\n",
    "m.drawparallels(np.arange(24,29,1))\n",
    "levels = [0,1,2,3,4,5]\n",
    "cf = m.contourf(Lon,Lat,Data,levels=levels,colors=cmpdata)\n",
    "cbar = m.colorbar(cf,location='right',format='%d',size=0.3, ticks=[None,None,None,None,None,None],\n",
    "                  label='1-clear            2-Ci                 3-conv              4-Cu                5-CI')\n",
    "plt.yticks(fontsize=20)\n",
    "plt.xticks(fontsize=20)\n",
    "plt.show()"
   ]
  }
 ],
 "metadata": {
  "kernelspec": {
   "display_name": "Python 3",
   "language": "python",
   "name": "python3"
  },
  "language_info": {
   "codemirror_mode": {
    "name": "ipython",
    "version": 3
   },
   "file_extension": ".py",
   "mimetype": "text/x-python",
   "name": "python",
   "nbconvert_exporter": "python",
   "pygments_lexer": "ipython3",
   "version": "3.6.5"
  }
 },
 "nbformat": 4,
 "nbformat_minor": 2
}
