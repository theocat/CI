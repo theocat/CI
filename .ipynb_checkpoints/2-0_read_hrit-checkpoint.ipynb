{
 "cells": [
  {
   "cell_type": "code",
   "execution_count": 1,
   "metadata": {},
   "outputs": [],
   "source": [
    "import numpy as np\n",
    "import struct\n",
    "#import os\n",
    "#import matplotlib.pyplot as plt\n",
    "import bz2file"
   ]
  },
  {
   "cell_type": "code",
   "execution_count": 2,
   "metadata": {},
   "outputs": [],
   "source": [
    "path_in='/work/share/HRIT_brands/B06/20180424/'"
   ]
  },
  {
   "cell_type": "code",
   "execution_count": 3,
   "metadata": {},
   "outputs": [],
   "source": [
    "filename=path_in+'IMG_DK01B06_201804240000_001.bz2'"
   ]
  },
  {
   "cell_type": "code",
   "execution_count": 4,
   "metadata": {},
   "outputs": [],
   "source": [
    "#def read_hrit(filename):\n",
    "if 'bz2' in filename:\n",
    "    binfile=bz2file.open(filename,'rb')\n",
    "else:\n",
    "    binfile=open(filename,'rb')"
   ]
  },
  {
   "cell_type": "code",
   "execution_count": 5,
   "metadata": {},
   "outputs": [],
   "source": [
    "Header_Type,    = struct.unpack(\">B\",binfile.read(1))\n",
    "Header_Record_Length,    = struct.unpack(\">H\",binfile.read(2))\n",
    "File_Type_Code, = struct.unpack(\">B\",binfile.read(1))\n",
    "Total_Header_Length, = struct.unpack(\">L\",binfile.read(4))\n",
    "Data_Filed_Length,   = struct.unpack(\">Q\",binfile.read(8)) "
   ]
  },
  {
   "cell_type": "code",
   "execution_count": 6,
   "metadata": {},
   "outputs": [
    {
     "name": "stdout",
     "output_type": "stream",
     "text": [
      "0 16 0 382 12100000\n"
     ]
    }
   ],
   "source": [
    "print Header_Type, Header_Record_Length, File_Type_Code, Total_Header_Length, Data_Filed_Length"
   ]
  },
  {
   "cell_type": "markdown",
   "metadata": {},
   "source": [
    "if File_Type_Code ==0 :"
   ]
  },
  {
   "cell_type": "code",
   "execution_count": 7,
   "metadata": {},
   "outputs": [],
   "source": [
    "#### Hearder Type #1 Image Structure \n",
    "Header_Type,    = struct.unpack(\">B\",binfile.read(1))\n",
    "Header_Record_Length, = struct.unpack(\">H\",binfile.read(2))\n",
    "NB,             = struct.unpack(\">B\",binfile.read(1))\n",
    "NC,NL,          = struct.unpack(\">2H\",binfile.read(4))\n",
    "Compression_Flag, = struct.unpack(\">B\",binfile.read(1))"
   ]
  },
  {
   "cell_type": "code",
   "execution_count": 8,
   "metadata": {},
   "outputs": [
    {
     "name": "stdout",
     "output_type": "stream",
     "text": [
      "1 9 16 2750 275 0\n"
     ]
    }
   ],
   "source": [
    "print Header_Type, Header_Record_Length, NB, NC, NL, Compression_Flag"
   ]
  },
  {
   "cell_type": "code",
   "execution_count": 9,
   "metadata": {
    "scrolled": true
   },
   "outputs": [],
   "source": [
    "#### Hearder Type #2 Image Navigation \n",
    "Header_Type,    = struct.unpack(\">B\",binfile.read(1))\n",
    "Header_Record_Length, = struct.unpack(\">H\",binfile.read(2))\n",
    "Projection_Name, = struct.unpack(\"32s\",binfile.read(32))\n",
    "CFAC,LFAC,COFF,LOFF,  = struct.unpack(\">4i\",binfile.read(16))"
   ]
  },
  {
   "cell_type": "code",
   "execution_count": 10,
   "metadata": {},
   "outputs": [
    {
     "name": "stdout",
     "output_type": "stream",
     "text": [
      "2 51 GEOS(140.70)                     10233137 10233137 1375 1375\n"
     ]
    }
   ],
   "source": [
    "print Header_Type, Header_Record_Length, Projection_Name, CFAC, LFAC, COFF, LOFF"
   ]
  },
  {
   "cell_type": "code",
   "execution_count": 12,
   "metadata": {},
   "outputs": [
    {
     "name": "stdout",
     "output_type": "stream",
     "text": [
      "\n"
     ]
    }
   ],
   "source": [
    "#### Hearder Type #3 Image Data Function\n",
    "Header_Type,    = struct.unpack(\">B\",binfile.read(1))\n",
    "Header_Record_Length, = struct.unpack(\">H\",binfile.read(2))\n",
    "ll=Header_Record_Length-3\n",
    "Data_Definition_Block,= struct.unpack(str(ll)+\"s\",binfile.read(ll))"
   ]
  },
  {
   "cell_type": "code",
   "execution_count": 13,
   "metadata": {},
   "outputs": [
    {
     "name": "stdout",
     "output_type": "stream",
     "text": [
      "3 85 $HALFTONE:=16\r",
      "_NAME:=VISIBLE\r",
      "_UNIT:=ALBEDO(%)\r",
      "0:=-0.10\r",
      "1023:=100.00\r",
      "65535:=100.00\r\n"
     ]
    }
   ],
   "source": [
    "print Header_Type, Header_Record_Length, Data_Definition_Block"
   ]
  },
  {
   "cell_type": "code",
   "execution_count": 14,
   "metadata": {},
   "outputs": [],
   "source": [
    "#### Hearder Type #4 Annotation \n",
    "Header_Type,    = struct.unpack(\">B\",binfile.read(1))\n",
    "Header_Record_Length, = struct.unpack(\">H\",binfile.read(2))\n",
    "ll=Header_Record_Length-3\n",
    "Annotation_Text,= struct.unpack(str(ll)+\"s\",binfile.read(ll))"
   ]
  },
  {
   "cell_type": "code",
   "execution_count": 15,
   "metadata": {},
   "outputs": [
    {
     "name": "stdout",
     "output_type": "stream",
     "text": [
      "4 31 IMG_DK01B06_201804240000_001\n"
     ]
    }
   ],
   "source": [
    "print Header_Type, Header_Record_Length, Annotation_Text"
   ]
  },
  {
   "cell_type": "code",
   "execution_count": null,
   "metadata": {},
   "outputs": [],
   "source": [
    "#### Hearder Type #5 Time Stamp \n",
    "Header_Type,    = struct.unpack(\">B\",binfile.read(1))\n",
    "Header_Record_Length, = struct.unpack(\">H\",binfile.read(2))\n",
    "CDS_P_Field,    = struct.unpack(\">B\",binfile.read(1))\n",
    "CDS_T_Field1,CDS_T_Field2,  = struct.unpack(\">HI\",binfile.read(6))\n",
    "### Hearder Type #128 Image Segment Identification\n",
    "Header_Type,    = struct.unpack(\">B\",binfile.read(1))\n",
    "Header_Record_Length, = struct.unpack(\">H\",binfile.read(2))\n",
    "Image_Segm_Seq_No,Total_No_Image_Segm,Line_No_Image_Segm, = \\\n",
    "    struct.unpack(\">BBH\",binfile.read(4))"
   ]
  },
  {
   "cell_type": "code",
   "execution_count": null,
   "metadata": {},
   "outputs": [],
   "source": [
    "\n",
    "\n",
    "\n",
    "    ### Hearder Type #130 Ancillary Text \n",
    "    Header_Type,    = struct.unpack(\">B\",binfile.read(1))\n",
    "    Header_Record_Length, = struct.unpack(\">H\",binfile.read(2))\n",
    "    ll=Header_Record_Length-3\n",
    "    Image_Compensation_Information,= struct.unpack(str(ll)+\"s\",binfile.read(ll))\n",
    "    ### Hearder Type #131 Ancillary Text \n",
    "    Header_Type,    = struct.unpack(\">B\",binfile.read(1))\n",
    "    Header_Record_Length, = struct.unpack(\">H\",binfile.read(2))\n",
    "    ll=Header_Record_Length-3\n",
    "    Image_Observation_Time,= struct.unpack(str(ll)+\"s\",binfile.read(ll))\n",
    "     ### Hearder Type #132 Image_Observation_Time \n",
    "    Header_Type,    = struct.unpack(\">B\",binfile.read(1))\n",
    "    Header_Record_Length, = struct.unpack(\">H\",binfile.read(2))\n",
    "    ll=Header_Record_Length-3\n",
    "    Image_Quality_Information,= struct.unpack(str(ll)+\"s\",binfile.read(ll))\n",
    "    \n",
    "    nn=NC*NL\n",
    "    Data0 =struct.unpack(\">\"+str(nn)+\"h\",binfile.read(nn*2))\n",
    "    Data     =  np.array(Data0,float)\n",
    "    Data     =  Data.reshape(NL,NC)\n",
    "    data_def=Data_Definition_Block.split(\"\\r\")\n",
    "    l=len(data_def)\n",
    "    if data_def[2]=='_UNIT:=ALBEDO(%)':\n",
    "        for i in range(3,l-1): \n",
    "            temp_c=np.array(data_def[i].split(':='),float)\n",
    "            Data[np.where(Data==temp_c[0])]=temp_c[1]\n",
    "        Data=Data*0.1\n",
    "    elif data_def[2]=='_UNIT:=KELVIN':\n",
    "        temp_c=np.array(data_def[3].split(':='),float)\n",
    "        Data[np.where(Data<=temp_c[0])]=temp_c[1]\n",
    "        temp_c=np.array(data_def[-2].split(':='),float)\n",
    "        Data[np.where(Data>=temp_c[0])]=temp_c[1]\n",
    "        for i in range(3,l-2):           \n",
    "            temp_c1=np.array(data_def[i].split(':='),float)\n",
    "            temp_c2=np.array(data_def[i+1].split(':='),float)\n",
    "            aa=np.where((Data>=temp_c1[0]) & (Data<temp_c2[0]))\n",
    "            Data[aa]=temp_c1[1]+(temp_c1[1]-temp_c2[1])/(temp_c1[0]-temp_c2[0])*(Data[aa]-temp_c1[0])"
   ]
  },
  {
   "cell_type": "code",
   "execution_count": null,
   "metadata": {},
   "outputs": [],
   "source": [
    "binfile.close()"
   ]
  }
 ],
 "metadata": {
  "kernelspec": {
   "display_name": "Python 2",
   "language": "python",
   "name": "python2"
  },
  "language_info": {
   "codemirror_mode": {
    "name": "ipython",
    "version": 2
   },
   "file_extension": ".py",
   "mimetype": "text/x-python",
   "name": "python",
   "nbconvert_exporter": "python",
   "pygments_lexer": "ipython2",
   "version": "2.7.14"
  }
 },
 "nbformat": 4,
 "nbformat_minor": 2
}
