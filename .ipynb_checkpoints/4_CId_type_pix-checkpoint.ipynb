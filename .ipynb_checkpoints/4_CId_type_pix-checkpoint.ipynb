{
 "cells": [
  {
   "cell_type": "code",
   "execution_count": 1,
   "metadata": {},
   "outputs": [],
   "source": [
    "import os,time,re\n",
    "import struct\n",
    "import numpy as np\n",
    "from pyproj import Proj\n",
    "import matplotlib.pyplot as plt\n",
    "from mpl_toolkits.basemap import Basemap"
   ]
  },
  {
   "cell_type": "code",
   "execution_count": 2,
   "metadata": {},
   "outputs": [],
   "source": [
    "time_start = '201806140300'\n",
    "time_end = '201806141000'"
   ]
  },
  {
   "cell_type": "code",
   "execution_count": 3,
   "metadata": {},
   "outputs": [],
   "source": [
    "data_path = '/work/wuxue/data/CI/CI/'"
   ]
  },
  {
   "cell_type": "code",
   "execution_count": 4,
   "metadata": {},
   "outputs": [],
   "source": [
    "cmpfile='./CldType.rgb'\n",
    "cmpdata=np.loadtxt(cmpfile)\n",
    "cmpdata=cmpdata/255.0;"
   ]
  },
  {
   "cell_type": "code",
   "execution_count": 5,
   "metadata": {},
   "outputs": [],
   "source": [
    "time_s = time.mktime(time.strptime(time_start,'%Y%m%d%H%M'))\n",
    "time_e = time.mktime(time.strptime(time_end,'%Y%m%d%H%M'))\n",
    "times = np.arange(time_s,time_e+1,10*60)"
   ]
  },
  {
   "cell_type": "code",
   "execution_count": 6,
   "metadata": {
    "scrolled": false
   },
   "outputs": [
    {
     "name": "stdout",
     "output_type": "stream",
     "text": [
      "20180704_0800\n",
      "No CI data!\n",
      "20180704_0810\n"
     ]
    },
    {
     "name": "stderr",
     "output_type": "stream",
     "text": [
      "/home/wuxue/pkg/anaconda2/lib/python2.7/site-packages/mpl_toolkits/basemap/__init__.py:3608: MatplotlibDeprecationWarning: The ishold function was deprecated in version 2.0.\n",
      "  b = ax.ishold()\n",
      "/home/wuxue/pkg/anaconda2/lib/python2.7/site-packages/mpl_toolkits/basemap/__init__.py:3677: MatplotlibDeprecationWarning: axes.hold is deprecated.\n",
      "    See the API Changes document (http://matplotlib.org/api/api_changes.html)\n",
      "    for more details.\n",
      "  ax.hold(b)\n"
     ]
    },
    {
     "name": "stdout",
     "output_type": "stream",
     "text": [
      "CldType image saved as /work/wuxue/data/CI/CI/figout/CldType_20180704_0810.png\n",
      "20180704_0820\n",
      "CldType image saved as /work/wuxue/data/CI/CI/figout/CldType_20180704_0820.png\n",
      "20180704_0830\n",
      "CldType image saved as /work/wuxue/data/CI/CI/figout/CldType_20180704_0830.png\n",
      "20180704_0840\n",
      "CldType image saved as /work/wuxue/data/CI/CI/figout/CldType_20180704_0840.png\n",
      "20180704_0850\n",
      "CldType image saved as /work/wuxue/data/CI/CI/figout/CldType_20180704_0850.png\n",
      "20180704_0900\n",
      "CldType image saved as /work/wuxue/data/CI/CI/figout/CldType_20180704_0900.png\n",
      "20180704_0910\n",
      "CldType image saved as /work/wuxue/data/CI/CI/figout/CldType_20180704_0910.png\n",
      "20180704_0920\n",
      "CldType image saved as /work/wuxue/data/CI/CI/figout/CldType_20180704_0920.png\n",
      "20180704_0930\n",
      "CldType image saved as /work/wuxue/data/CI/CI/figout/CldType_20180704_0930.png\n",
      "20180704_0940\n",
      "CldType image saved as /work/wuxue/data/CI/CI/figout/CldType_20180704_0940.png\n",
      "20180704_0950\n",
      "CldType image saved as /work/wuxue/data/CI/CI/figout/CldType_20180704_0950.png\n",
      "20180704_1000\n",
      "CldType image saved as /work/wuxue/data/CI/CI/figout/CldType_20180704_1000.png\n",
      "20180704_1010\n",
      "CldType image saved as /work/wuxue/data/CI/CI/figout/CldType_20180704_1010.png\n",
      "20180704_1020\n",
      "CldType image saved as /work/wuxue/data/CI/CI/figout/CldType_20180704_1020.png\n",
      "20180704_1030\n",
      "CldType image saved as /work/wuxue/data/CI/CI/figout/CldType_20180704_1030.png\n",
      "20180704_1040\n",
      "CldType image saved as /work/wuxue/data/CI/CI/figout/CldType_20180704_1040.png\n",
      "20180704_1050\n",
      "CldType image saved as /work/wuxue/data/CI/CI/figout/CldType_20180704_1050.png\n",
      "20180704_1100\n",
      "CldType image saved as /work/wuxue/data/CI/CI/figout/CldType_20180704_1100.png\n",
      "20180704_1110\n",
      "CldType image saved as /work/wuxue/data/CI/CI/figout/CldType_20180704_1110.png\n",
      "20180704_1120\n",
      "CldType image saved as /work/wuxue/data/CI/CI/figout/CldType_20180704_1120.png\n",
      "20180704_1130\n",
      "CldType image saved as /work/wuxue/data/CI/CI/figout/CldType_20180704_1130.png\n",
      "20180704_1140\n",
      "CldType image saved as /work/wuxue/data/CI/CI/figout/CldType_20180704_1140.png\n",
      "20180704_1150\n",
      "CldType image saved as /work/wuxue/data/CI/CI/figout/CldType_20180704_1150.png\n",
      "20180704_1200\n",
      "No CI data!\n"
     ]
    }
   ],
   "source": [
    "for t in range(len(times)):\n",
    "    time_str = time.strftime(\"%Y%m%d_%H%M\", time.localtime(times[t]))\n",
    "    print time_str\n",
    "    # file\n",
    "    ci_filename = os.path.join(data_path, 'H8_'+ time_str +'_FCST_pix_bin.dat')     # head\n",
    "    cldType_filename = os.path.join(data_path, 'H8_'+ time_str +'_Cloudtype.dat')   # data\n",
    "    fig_filename = os.path.join(data_path,'figout', 'CldType_'+ time_str +'.png')\n",
    "    try:\n",
    "        ci_file = open(ci_filename, 'rb')\n",
    "    except:\n",
    "        print('No CI data!')\n",
    "        continue\n",
    "    try:\n",
    "        cldType_file = open(cldType_filename)\n",
    "    except:\n",
    "        print('No CldType data!')\n",
    "        continue\n",
    "    # CI head\n",
    "    wFileID, wPjType, wWidth, wHeight, = struct.unpack(\"<4H\",ci_file.read(2*4))\n",
    "    fCLonRes, fCLatRes, fStdLat1, fStdLat2, fEarthR, fMinLat, fMaxLat, fMinLon, fMaxLon, fLtLat, fLtLon, fRtLat, fRtLon, fLbLat, fLbLon, fRbLat, fRbLon, fStdLon, fCenterLon, fCenterLat, = struct.unpack(\"<20f\",ci_file.read(4*20))\n",
    "    ci_file.close()\n",
    "    # CldType data\n",
    "    s = cldType_file.read()\n",
    "    s1 = re.split('\\s+', s) #利用正则函数进行分割\n",
    "    Data = np.array(s1[3:-1]).reshape(wHeight,wWidth).astype('int')\n",
    "    # Projection\n",
    "    try:\n",
    "        p = Proj('+proj=lcc +lon_0='+str(fStdLon)+' +lat_1='+str(fStdLat1)+' +lat_2='+str(fStdLat2)+' +ellps=krass')\n",
    "    except:\n",
    "        print('Wrong params!')\n",
    "        continue\n",
    "    # grids\n",
    "    x0, y0 = p(fCenterLon, fCenterLat)            # 网格中心\n",
    "    X = np.array(range(-wWidth/2, wWidth/2, 1)) * fCLonRes*1000 + x0               \n",
    "    Y = np.array(range(wHeight/2, -wHeight/2, -1)) * fCLatRes*1000 + y0  \n",
    "    X, Y = np.meshgrid(X, Y)\n",
    "    Lon, Lat = p(X, Y, inverse=True)\n",
    "    # figure\n",
    "    fig = plt.figure(figsize=(8,8))\n",
    "    m = Basemap(projection='cyl',resolution='i',llcrnrlon=Lon.min(),llcrnrlat=Lat.min(),urcrnrlon=Lon.max(),urcrnrlat=Lat.max(),suppress_ticks=False)\n",
    "    m.drawcoastlines(linewidth=1,color='k')\n",
    "    m.drawcountries(linewidth=1,color='k')\n",
    "    m.drawmeridians(np.arange(np.ceil(Lon.min()),np.ceil(Lon.max()),1))\n",
    "    m.drawparallels(np.arange(np.ceil(Lat.min()),np.ceil(Lat.max()),1))\n",
    "    levels = [0,1,2,3,4,5,6]\n",
    "    cf = m.contourf(Lon,Lat,Data,levels=levels,colors=cmpdata)\n",
    "    cbar = m.colorbar(cf,location='right',format='%d',size=0.3, ticks=[None,None,None,None,None,None,None],\n",
    "                      label='1-clr_sea    2-clr_land      3-ci        4-conv       5-edge       6-cu')\n",
    "    plt.yticks(fontsize=20)\n",
    "    plt.xticks(fontsize=20)\n",
    "    plt.title('CldType '+time_str+'(UTC)',fontsize = 20)\n",
    "    plt.savefig(fig_filename, bbox_inches='tight')\n",
    "#     plt.show()\n",
    "    plt.close()\n",
    "    print('CldType image saved as '+ fig_filename)"
   ]
  }
 ],
 "metadata": {
  "kernelspec": {
   "display_name": "Python 2",
   "language": "python",
   "name": "python2"
  },
  "language_info": {
   "codemirror_mode": {
    "name": "ipython",
    "version": 2
   },
   "file_extension": ".py",
   "mimetype": "text/x-python",
   "name": "python",
   "nbconvert_exporter": "python",
   "pygments_lexer": "ipython2",
   "version": "2.7.14"
  }
 },
 "nbformat": 4,
 "nbformat_minor": 2
}
