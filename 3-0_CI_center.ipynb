{
 "cells": [
  {
   "cell_type": "code",
   "execution_count": 1,
   "metadata": {},
   "outputs": [],
   "source": [
    "import os"
   ]
  },
  {
   "cell_type": "code",
   "execution_count": 2,
   "metadata": {},
   "outputs": [],
   "source": [
    "data_path = '/work/wuxue/data/CI/Zhuge/result/H8_20180402_0810_FCST_list.dat'"
   ]
  },
  {
   "cell_type": "code",
   "execution_count": 3,
   "metadata": {},
   "outputs": [],
   "source": [
    "data_file = open(data_path,'r')"
   ]
  },
  {
   "cell_type": "code",
   "execution_count": 4,
   "metadata": {
    "scrolled": true
   },
   "outputs": [
    {
     "name": "stdout",
     "output_type": "stream",
     "text": [
      " SeqNO.   latitude  longitude\r\n",
      "\n",
      "     1    27.23870   119.80370\r\n",
      "\n",
      "     2    25.54760   116.10670\r\n",
      "\n",
      "     3    25.25410   117.13080\r\n",
      "\n",
      "     4    25.28530   117.46830\r\n",
      "\n",
      "     5    25.26730   117.99880\r\n",
      "\n",
      "     6    25.08570   115.85070\r\n",
      "\n",
      "     7    25.09940   117.28280\r\n",
      "\n",
      "     8    24.80830   117.07620\r\n",
      "\n"
     ]
    }
   ],
   "source": [
    "for lines in data_file.readlines():\n",
    "    print lines"
   ]
  }
 ],
 "metadata": {
  "kernelspec": {
   "display_name": "Python 2",
   "language": "python",
   "name": "python2"
  },
  "language_info": {
   "codemirror_mode": {
    "name": "ipython",
    "version": 2
   },
   "file_extension": ".py",
   "mimetype": "text/x-python",
   "name": "python",
   "nbconvert_exporter": "python",
   "pygments_lexer": "ipython2",
   "version": "2.7.14"
  }
 },
 "nbformat": 4,
 "nbformat_minor": 2
}
